{
 "cells": [
  {
   "cell_type": "markdown",
   "metadata": {},
   "source": [
    "# VacationPy\n",
    "----\n",
    "\n",
    "#### Note\n",
    "* Keep an eye on your API usage. Use https://developers.google.com/maps/reporting/gmp-reporting as reference for how to monitor your usage and billing.\n",
    "\n",
    "* Instructions have been included for each segment. You do not have to follow them exactly, but they are included to help you think through the steps."
   ]
  },
  {
   "cell_type": "code",
   "execution_count": 3,
   "metadata": {},
   "outputs": [],
   "source": [
    "# Dependencies and Setup\n",
    "import matplotlib.pyplot as plt\n",
    "import pandas as pd\n",
    "import numpy as np\n",
    "import requests\n",
    "import gmaps\n",
    "import os\n",
    "\n",
    "# Import API key\n",
    "from api_keys import g_key\n",
    "\n",
    "weatherpy_csv = \"output_data_file\""
   ]
  },
  {
   "cell_type": "markdown",
   "metadata": {},
   "source": [
    "### Store Part I results into DataFrame\n",
    "* Load the csv exported in Part I to a DataFrame"
   ]
  },
  {
   "cell_type": "code",
   "execution_count": 4,
   "metadata": {},
   "outputs": [
    {
     "data": {
      "text/html": [
       "<div>\n",
       "<style scoped>\n",
       "    .dataframe tbody tr th:only-of-type {\n",
       "        vertical-align: middle;\n",
       "    }\n",
       "\n",
       "    .dataframe tbody tr th {\n",
       "        vertical-align: top;\n",
       "    }\n",
       "\n",
       "    .dataframe thead th {\n",
       "        text-align: right;\n",
       "    }\n",
       "</style>\n",
       "<table border=\"1\" class=\"dataframe\">\n",
       "  <thead>\n",
       "    <tr style=\"text-align: right;\">\n",
       "      <th></th>\n",
       "      <th>City</th>\n",
       "      <th>Lat</th>\n",
       "      <th>Lng</th>\n",
       "      <th>Max Temp</th>\n",
       "      <th>Humidity</th>\n",
       "      <th>Cloudiness</th>\n",
       "      <th>Wind Speed</th>\n",
       "      <th>Country</th>\n",
       "      <th>Date</th>\n",
       "    </tr>\n",
       "  </thead>\n",
       "  <tbody>\n",
       "    <tr>\n",
       "      <th>0</th>\n",
       "      <td>hervey bay</td>\n",
       "      <td>-25.2986</td>\n",
       "      <td>152.8535</td>\n",
       "      <td>73.00</td>\n",
       "      <td>63</td>\n",
       "      <td>52</td>\n",
       "      <td>8.01</td>\n",
       "      <td>AU</td>\n",
       "      <td>1619495977</td>\n",
       "    </tr>\n",
       "    <tr>\n",
       "      <th>1</th>\n",
       "      <td>belmonte</td>\n",
       "      <td>-15.8631</td>\n",
       "      <td>-38.8828</td>\n",
       "      <td>75.20</td>\n",
       "      <td>78</td>\n",
       "      <td>20</td>\n",
       "      <td>5.75</td>\n",
       "      <td>BR</td>\n",
       "      <td>1619495978</td>\n",
       "    </tr>\n",
       "    <tr>\n",
       "      <th>2</th>\n",
       "      <td>punta arenas</td>\n",
       "      <td>-53.1500</td>\n",
       "      <td>-70.9167</td>\n",
       "      <td>44.60</td>\n",
       "      <td>93</td>\n",
       "      <td>90</td>\n",
       "      <td>5.75</td>\n",
       "      <td>CL</td>\n",
       "      <td>1619495978</td>\n",
       "    </tr>\n",
       "    <tr>\n",
       "      <th>3</th>\n",
       "      <td>geraldton</td>\n",
       "      <td>-28.7667</td>\n",
       "      <td>114.6000</td>\n",
       "      <td>87.80</td>\n",
       "      <td>20</td>\n",
       "      <td>20</td>\n",
       "      <td>3.44</td>\n",
       "      <td>AU</td>\n",
       "      <td>1619495979</td>\n",
       "    </tr>\n",
       "    <tr>\n",
       "      <th>4</th>\n",
       "      <td>oranjemund</td>\n",
       "      <td>-28.5500</td>\n",
       "      <td>16.4333</td>\n",
       "      <td>59.04</td>\n",
       "      <td>86</td>\n",
       "      <td>79</td>\n",
       "      <td>5.12</td>\n",
       "      <td>NaN</td>\n",
       "      <td>1619495979</td>\n",
       "    </tr>\n",
       "  </tbody>\n",
       "</table>\n",
       "</div>"
      ],
      "text/plain": [
       "           City      Lat       Lng  Max Temp  Humidity  Cloudiness  \\\n",
       "0    hervey bay -25.2986  152.8535     73.00        63          52   \n",
       "1      belmonte -15.8631  -38.8828     75.20        78          20   \n",
       "2  punta arenas -53.1500  -70.9167     44.60        93          90   \n",
       "3     geraldton -28.7667  114.6000     87.80        20          20   \n",
       "4    oranjemund -28.5500   16.4333     59.04        86          79   \n",
       "\n",
       "   Wind Speed Country        Date  \n",
       "0        8.01      AU  1619495977  \n",
       "1        5.75      BR  1619495978  \n",
       "2        5.75      CL  1619495978  \n",
       "3        3.44      AU  1619495979  \n",
       "4        5.12     NaN  1619495979  "
      ]
     },
     "execution_count": 4,
     "metadata": {},
     "output_type": "execute_result"
    }
   ],
   "source": [
    "vacationpy_df = pd.read_csv(weatherpy_csv)\n",
    "vacationpy_df.head()"
   ]
  },
  {
   "cell_type": "markdown",
   "metadata": {},
   "source": [
    "### Humidity Heatmap\n",
    "* Configure gmaps.\n",
    "* Use the Lat and Lng as locations and Humidity as the weight.\n",
    "* Add Heatmap layer to map."
   ]
  },
  {
   "cell_type": "code",
   "execution_count": 5,
   "metadata": {},
   "outputs": [],
   "source": [
    "# Configure gmaps\n",
    "gmaps.configure(api_key=g_key)"
   ]
  },
  {
   "cell_type": "code",
   "execution_count": 6,
   "metadata": {},
   "outputs": [
    {
     "data": {
      "application/vnd.jupyter.widget-view+json": {
       "model_id": "388963acd08e41ba962b9db67fff7353",
       "version_major": 2,
       "version_minor": 0
      },
      "text/plain": [
       "Figure(layout=FigureLayout(height='420px'))"
      ]
     },
     "metadata": {},
     "output_type": "display_data"
    }
   ],
   "source": [
    "locations = vacationpy_df[[\"Lat\", \"Lng\"]]\n",
    "hum = vacationpy_df[\"Humidity\"].astype(float)\n",
    "\n",
    "# Plot Heatmap\n",
    "fig = gmaps.figure()\n",
    "# Create heat layer\n",
    "heat_layer = gmaps.heatmap_layer(locations, weights=hum, \n",
    "                                 dissipating=False, max_intensity=100,\n",
    "                                 point_radius=1)\n",
    "# Add layer\n",
    "fig.add_layer(heat_layer)\n",
    "# Display figure\n",
    "fig"
   ]
  },
  {
   "cell_type": "code",
   "execution_count": 8,
   "metadata": {},
   "outputs": [],
   "source": [
    "### Create new DataFrame fitting weather criteria\n",
    "# * Narrow down the cities to fit weather conditions.\n",
    "# * Drop any rows will null values."
   ]
  },
  {
   "cell_type": "code",
   "execution_count": 9,
   "metadata": {},
   "outputs": [
    {
     "name": "stderr",
     "output_type": "stream",
     "text": [
      "<ipython-input-9-1ea31caf26ac>:2: UserWarning: Boolean Series key will be reindexed to match DataFrame index.\n",
      "  vacationpy_weather_crit = vacationpy_weather_crit[vacationpy_df['Max Temp'] > 70]\n",
      "<ipython-input-9-1ea31caf26ac>:3: UserWarning: Boolean Series key will be reindexed to match DataFrame index.\n",
      "  vacationpy_weather_crit = vacationpy_weather_crit[vacationpy_df['Wind Speed'] < 10]\n",
      "<ipython-input-9-1ea31caf26ac>:4: UserWarning: Boolean Series key will be reindexed to match DataFrame index.\n",
      "  vacationpy_weather_crit = vacationpy_weather_crit[vacationpy_df['Cloudiness'] == 0]\n"
     ]
    },
    {
     "data": {
      "text/html": [
       "<div>\n",
       "<style scoped>\n",
       "    .dataframe tbody tr th:only-of-type {\n",
       "        vertical-align: middle;\n",
       "    }\n",
       "\n",
       "    .dataframe tbody tr th {\n",
       "        vertical-align: top;\n",
       "    }\n",
       "\n",
       "    .dataframe thead th {\n",
       "        text-align: right;\n",
       "    }\n",
       "</style>\n",
       "<table border=\"1\" class=\"dataframe\">\n",
       "  <thead>\n",
       "    <tr style=\"text-align: right;\">\n",
       "      <th></th>\n",
       "      <th>City</th>\n",
       "      <th>Lat</th>\n",
       "      <th>Lng</th>\n",
       "      <th>Max Temp</th>\n",
       "      <th>Humidity</th>\n",
       "      <th>Cloudiness</th>\n",
       "      <th>Wind Speed</th>\n",
       "      <th>Country</th>\n",
       "      <th>Date</th>\n",
       "    </tr>\n",
       "  </thead>\n",
       "  <tbody>\n",
       "    <tr>\n",
       "      <th>195</th>\n",
       "      <td>lenger</td>\n",
       "      <td>42.1830</td>\n",
       "      <td>69.8839</td>\n",
       "      <td>73.4</td>\n",
       "      <td>38</td>\n",
       "      <td>0</td>\n",
       "      <td>2.24</td>\n",
       "      <td>KZ</td>\n",
       "      <td>1619496084</td>\n",
       "    </tr>\n",
       "    <tr>\n",
       "      <th>250</th>\n",
       "      <td>casa nova</td>\n",
       "      <td>-9.4167</td>\n",
       "      <td>-41.1333</td>\n",
       "      <td>78.8</td>\n",
       "      <td>65</td>\n",
       "      <td>0</td>\n",
       "      <td>9.22</td>\n",
       "      <td>BR</td>\n",
       "      <td>1619496107</td>\n",
       "    </tr>\n",
       "    <tr>\n",
       "      <th>302</th>\n",
       "      <td>meybod</td>\n",
       "      <td>32.2501</td>\n",
       "      <td>54.0166</td>\n",
       "      <td>71.6</td>\n",
       "      <td>37</td>\n",
       "      <td>0</td>\n",
       "      <td>2.30</td>\n",
       "      <td>IR</td>\n",
       "      <td>1619496128</td>\n",
       "    </tr>\n",
       "    <tr>\n",
       "      <th>421</th>\n",
       "      <td>conceicao do araguaia</td>\n",
       "      <td>-8.2578</td>\n",
       "      <td>-49.2647</td>\n",
       "      <td>77.0</td>\n",
       "      <td>94</td>\n",
       "      <td>0</td>\n",
       "      <td>3.44</td>\n",
       "      <td>BR</td>\n",
       "      <td>1619496177</td>\n",
       "    </tr>\n",
       "    <tr>\n",
       "      <th>423</th>\n",
       "      <td>riyadh</td>\n",
       "      <td>24.6877</td>\n",
       "      <td>46.7219</td>\n",
       "      <td>77.0</td>\n",
       "      <td>22</td>\n",
       "      <td>0</td>\n",
       "      <td>8.68</td>\n",
       "      <td>SA</td>\n",
       "      <td>1619496007</td>\n",
       "    </tr>\n",
       "    <tr>\n",
       "      <th>425</th>\n",
       "      <td>dubbo</td>\n",
       "      <td>-32.2500</td>\n",
       "      <td>148.6167</td>\n",
       "      <td>75.2</td>\n",
       "      <td>29</td>\n",
       "      <td>0</td>\n",
       "      <td>2.30</td>\n",
       "      <td>AU</td>\n",
       "      <td>1619496178</td>\n",
       "    </tr>\n",
       "    <tr>\n",
       "      <th>570</th>\n",
       "      <td>silvania</td>\n",
       "      <td>-16.6589</td>\n",
       "      <td>-48.6081</td>\n",
       "      <td>73.4</td>\n",
       "      <td>73</td>\n",
       "      <td>0</td>\n",
       "      <td>4.61</td>\n",
       "      <td>BR</td>\n",
       "      <td>1619496237</td>\n",
       "    </tr>\n",
       "  </tbody>\n",
       "</table>\n",
       "</div>"
      ],
      "text/plain": [
       "                      City      Lat       Lng  Max Temp  Humidity  Cloudiness  \\\n",
       "195                 lenger  42.1830   69.8839      73.4        38           0   \n",
       "250              casa nova  -9.4167  -41.1333      78.8        65           0   \n",
       "302                 meybod  32.2501   54.0166      71.6        37           0   \n",
       "421  conceicao do araguaia  -8.2578  -49.2647      77.0        94           0   \n",
       "423                 riyadh  24.6877   46.7219      77.0        22           0   \n",
       "425                  dubbo -32.2500  148.6167      75.2        29           0   \n",
       "570               silvania -16.6589  -48.6081      73.4        73           0   \n",
       "\n",
       "     Wind Speed Country        Date  \n",
       "195        2.24      KZ  1619496084  \n",
       "250        9.22      BR  1619496107  \n",
       "302        2.30      IR  1619496128  \n",
       "421        3.44      BR  1619496177  \n",
       "423        8.68      SA  1619496007  \n",
       "425        2.30      AU  1619496178  \n",
       "570        4.61      BR  1619496237  "
      ]
     },
     "execution_count": 9,
     "metadata": {},
     "output_type": "execute_result"
    }
   ],
   "source": [
    "vacationpy_weather_crit = vacationpy_df[vacationpy_df['Max Temp'] < 80] \n",
    "vacationpy_weather_crit = vacationpy_weather_crit[vacationpy_df['Max Temp'] > 70]\n",
    "vacationpy_weather_crit = vacationpy_weather_crit[vacationpy_df['Wind Speed'] < 10]\n",
    "vacationpy_weather_crit = vacationpy_weather_crit[vacationpy_df['Cloudiness'] == 0]\n",
    "vacationpy_weather_crit"
   ]
  },
  {
   "cell_type": "markdown",
   "metadata": {},
   "source": [
    "### Hotel Map\n",
    "* Store into variable named `hotel_df`.\n",
    "* Add a \"Hotel Name\" column to the DataFrame.\n",
    "* Set parameters to search for hotels with 5000 meters.\n",
    "* Hit the Google Places API for each city's coordinates.\n",
    "* Store the first Hotel result into the DataFrame.\n",
    "* Plot markers on top of the heatmap."
   ]
  },
  {
   "cell_type": "code",
   "execution_count": null,
   "metadata": {},
   "outputs": [],
   "source": [
    "for vacationpy_weather_crit\n",
    "\n",
    "# hotel_df = vacationpy_weather_crit['Hotel Name']"
   ]
  },
  {
   "cell_type": "code",
   "execution_count": null,
   "metadata": {},
   "outputs": [],
   "source": []
  },
  {
   "cell_type": "code",
   "execution_count": null,
   "metadata": {},
   "outputs": [],
   "source": [
    "# NOTE: Do not change any of the code in this cell\n",
    "\n",
    "# Using the template add the hotel marks to the heatmap\n",
    "info_box_template = \"\"\"\n",
    "<dl>\n",
    "<dt>Name</dt><dd>{Hotel Name}</dd>\n",
    "<dt>City</dt><dd>{City}</dd>\n",
    "<dt>Country</dt><dd>{Country}</dd>\n",
    "</dl>\n",
    "\"\"\"\n",
    "# Store the DataFrame Row\n",
    "# NOTE: be sure to update with your DataFrame name\n",
    "hotel_info = [info_box_template.format(**row) for index, row in hotel_df.iterrows()]\n",
    "locations = hotel_df[[\"Lat\", \"Lng\"]]"
   ]
  },
  {
   "cell_type": "code",
   "execution_count": null,
   "metadata": {},
   "outputs": [],
   "source": [
    "# Add marker layer ontop of heat map\n",
    "\n",
    "\n",
    "# Display figure\n"
   ]
  },
  {
   "cell_type": "code",
   "execution_count": null,
   "metadata": {},
   "outputs": [],
   "source": []
  }
 ],
 "metadata": {
  "kernelspec": {
   "display_name": "Python 3",
   "language": "python",
   "name": "python3"
  },
  "language_info": {
   "codemirror_mode": {
    "name": "ipython",
    "version": 3
   },
   "file_extension": ".py",
   "mimetype": "text/x-python",
   "name": "python",
   "nbconvert_exporter": "python",
   "pygments_lexer": "ipython3",
   "version": "3.8.5"
  },
  "latex_envs": {
   "LaTeX_envs_menu_present": true,
   "autoclose": false,
   "autocomplete": true,
   "bibliofile": "biblio.bib",
   "cite_by": "apalike",
   "current_citInitial": 1,
   "eqLabelWithNumbers": true,
   "eqNumInitial": 1,
   "hotkeys": {
    "equation": "Ctrl-E",
    "itemize": "Ctrl-I"
   },
   "labels_anchors": false,
   "latex_user_defs": false,
   "report_style_numbering": false,
   "user_envs_cfg": false
  }
 },
 "nbformat": 4,
 "nbformat_minor": 4
}
